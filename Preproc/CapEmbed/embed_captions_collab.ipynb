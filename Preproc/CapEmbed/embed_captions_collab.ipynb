{
 "cells": [
  {
   "cell_type": "code",
   "execution_count": 0,
   "metadata": {
    "colab": {},
    "colab_type": "code",
    "id": "hxAPK8Op0B5V"
   },
   "outputs": [],
   "source": [
    "# Install the latest Tensorflow version.\n",
    "!pip3 install --quiet \"tensorflow>=1.7\"\n",
    "# Install TF-Hub.\n",
    "!pip3 install --quiet tensorflow-hub"
   ]
  },
  {
   "cell_type": "code",
   "execution_count": 3,
   "metadata": {
    "colab": {
     "base_uri": "https://localhost:8080/",
     "height": 74
    },
    "colab_type": "code",
    "id": "VZV46r9W0H9d",
    "outputId": "e5ae1d5d-f908-412d-93b1-b2af27f239d5"
   },
   "outputs": [
    {
     "name": "stdout",
     "output_type": "stream",
     "text": [
      "Drive already mounted at /content/drive; to attempt to forcibly remount, call drive.mount(\"/content/drive\", force_remount=True).\n"
     ]
    }
   ],
   "source": [
    "import tensorflow as tf\n",
    "import tensorflow_hub as hub\n",
    "import matplotlib.pyplot as plt\n",
    "import numpy as np\n",
    "import os\n",
    "import pandas as pd\n",
    "import re\n",
    "\n",
    "from google.colab import drive\n",
    "drive.mount('/content/drive')"
   ]
  },
  {
   "cell_type": "code",
   "execution_count": 0,
   "metadata": {
    "colab": {},
    "colab_type": "code",
    "id": "lG9l58ehE_yI"
   },
   "outputs": [],
   "source": [
    "import math"
   ]
  },
  {
   "cell_type": "code",
   "execution_count": 5,
   "metadata": {
    "colab": {
     "base_uri": "https://localhost:8080/",
     "height": 34
    },
    "colab_type": "code",
    "id": "S0IRJFcO9yoI",
    "outputId": "1834c910-d5c0-45e3-e5a5-2b8087cfced0"
   },
   "outputs": [
    {
     "name": "stdout",
     "output_type": "stream",
     "text": [
      "Found GPU at: /device:GPU:0\n"
     ]
    }
   ],
   "source": [
    "device_name = tf.test.gpu_device_name()\n",
    "if device_name != '/device:GPU:0':\n",
    "    raise SystemError('GPU device not found')\n",
    "print('Found GPU at: {}'.format(device_name))"
   ]
  },
  {
   "cell_type": "code",
   "execution_count": 0,
   "metadata": {
    "colab": {},
    "colab_type": "code",
    "id": "yQvdpv-n0Mvs"
   },
   "outputs": [],
   "source": [
    "module_url = \"https://tfhub.dev/google/universal-sentence-encoder-large/3\" #@param [\"https://tfhub.dev/google/universal-sentence-encoder/2\", \"https://tfhub.dev/google/universal-sentence-encoder-large/3\"]"
   ]
  },
  {
   "cell_type": "code",
   "execution_count": 0,
   "metadata": {
    "colab": {},
    "colab_type": "code",
    "id": "otAAeIUk4CW5"
   },
   "outputs": [],
   "source": [
    "cococapdf = pd.read_csv('/content/drive/My Drive/Colab_Data/captions.csv', names=['caption'])"
   ]
  },
  {
   "cell_type": "code",
   "execution_count": 8,
   "metadata": {
    "colab": {
     "base_uri": "https://localhost:8080/",
     "height": 323
    },
    "colab_type": "code",
    "id": "7p3WzPgP0TQn",
    "outputId": "99ae26ea-dd20-4e4d-f0f8-c60d343f303d"
   },
   "outputs": [
    {
     "name": "stdout",
     "output_type": "stream",
     "text": [
      "INFO:tensorflow:Using /tmp/tfhub_modules to cache modules.\n",
      "25 250000 260000\n",
      "26 260000 270000\n",
      "27 270000 280000\n",
      "28 280000 290000\n",
      "29 290000 300000\n",
      "30 300000 310000\n",
      "31 310000 320000\n",
      "32 320000 330000\n",
      "33 330000 340000\n",
      "34 340000 350000\n",
      "35 350000 360000\n",
      "36 360000 370000\n",
      "37 370000 380000\n",
      "38 380000 390000\n",
      "39 390000 400000\n",
      "40 400000 410000\n",
      "41 410000 420000\n"
     ]
    }
   ],
   "source": [
    "# Import the Universal Sentence Encoder's TF Hub module\n",
    "embed = hub.Module(module_url)\n",
    "\n",
    "# Reduce logging output.\n",
    "tf.logging.set_verbosity(tf.logging.ERROR)\n",
    "\n",
    "\n",
    "batch_size = 10000\n",
    "n_batches = math.ceil(len(cococapdf) / batch_size)\n",
    "\n",
    "start_from = 25 ## ONLY != 0 if crashed in the middle\n",
    "\n",
    "\n",
    "for this_batch_n in range(start_from, n_batches):\n",
    "    start_index = batch_size * this_batch_n\n",
    "    end_index = batch_size * (this_batch_n + 1)\n",
    "    print(this_batch_n, start_index, end_index)\n",
    "\n",
    "    with tf.Session() as session:\n",
    "        session.run([tf.global_variables_initializer(), tf.tables_initializer()])\n",
    "        caption_embeddings = session.run(embed(cococapdf[start_index:end_index]['caption'].tolist()))\n",
    "        np.savez_compressed('/content/drive/My Drive/Colab_Data/captions_{}.npz'.format(this_batch_n), caption_embeddings)"
   ]
  },
  {
   "cell_type": "code",
   "execution_count": 0,
   "metadata": {
    "colab": {},
    "colab_type": "code",
    "id": "iqywoWspLDvg"
   },
   "outputs": [],
   "source": [
    "parts = []\n",
    "for n in range(42):\n",
    "    parts.append(np.load('/content/drive/My Drive/Colab_Data/captions_{}.npz'.format(n))['arr_0'])"
   ]
  },
  {
   "cell_type": "code",
   "execution_count": 0,
   "metadata": {
    "colab": {},
    "colab_type": "code",
    "id": "Ky1Nh3EVLfbZ"
   },
   "outputs": [],
   "source": [
    "all_captions = np.concatenate(parts)"
   ]
  },
  {
   "cell_type": "code",
   "execution_count": 22,
   "metadata": {
    "colab": {
     "base_uri": "https://localhost:8080/",
     "height": 34
    },
    "colab_type": "code",
    "id": "5VTFV3E8L5Rc",
    "outputId": "eac1eb2f-3e9f-4093-9b67-19daba7cc349"
   },
   "outputs": [
    {
     "data": {
      "text/plain": [
       "(414113, 512)"
      ]
     },
     "execution_count": 22,
     "metadata": {
      "tags": []
     },
     "output_type": "execute_result"
    }
   ],
   "source": [
    "all_captions.shape"
   ]
  },
  {
   "cell_type": "code",
   "execution_count": 0,
   "metadata": {
    "colab": {},
    "colab_type": "code",
    "id": "t5yDmPLIL6jw"
   },
   "outputs": [],
   "source": [
    "np.savez_compressed('/content/drive/My Drive/Colab_Data/captions.npz', all_captions)"
   ]
  },
  {
   "cell_type": "code",
   "execution_count": 0,
   "metadata": {
    "colab": {},
    "colab_type": "code",
    "id": "objPJ1wJMDdm"
   },
   "outputs": [],
   "source": []
  }
 ],
 "metadata": {
  "accelerator": "GPU",
  "colab": {
   "collapsed_sections": [],
   "name": "embed_captions_collab.ipynb",
   "provenance": [],
   "version": "0.3.2"
  },
  "kernelspec": {
   "display_name": "Python 3",
   "language": "python",
   "name": "python3"
  },
  "language_info": {
   "codemirror_mode": {
    "name": "ipython",
    "version": 3
   },
   "file_extension": ".py",
   "mimetype": "text/x-python",
   "name": "python",
   "nbconvert_exporter": "python",
   "pygments_lexer": "ipython3",
   "version": "3.6.8"
  }
 },
 "nbformat": 4,
 "nbformat_minor": 1
}
